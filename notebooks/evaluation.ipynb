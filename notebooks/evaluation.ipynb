{
 "cells": [
  {
   "cell_type": "code",
   "execution_count": 1,
   "metadata": {},
   "outputs": [],
   "source": [
    "import numpy as np"
   ]
  },
  {
   "cell_type": "code",
   "execution_count": 2,
   "metadata": {},
   "outputs": [],
   "source": [
    "# modified from https://github.com/jasonwu0731/trade-dst/\n",
    "\n",
    "def evaluate_metrics(all_prediction, from_which, slot_temp):\n",
    "    total, turn_acc, joint_acc, F1_pred, F1_count = 0, 0, 0, 0, 0\n",
    "    for d, v in all_prediction.items():\n",
    "        for t in range(len(v)):\n",
    "            cv = v[t]\n",
    "            if set(cv[\"turn_belief\"]) == set(cv[from_which]):\n",
    "                joint_acc += 1\n",
    "            total += 1\n",
    "\n",
    "            # Compute prediction slot accuracy\n",
    "            temp_acc = self.compute_acc(set(cv[\"turn_belief\"]), set(cv[from_which]), slot_temp)\n",
    "            turn_acc += temp_acc\n",
    "\n",
    "            # Compute prediction joint F1 score\n",
    "            temp_f1, temp_r, temp_p, count = self.compute_prf(set(cv[\"turn_belief\"]), set(cv[from_which]))\n",
    "            F1_pred += temp_f1\n",
    "            F1_count += count\n",
    "\n",
    "    joint_acc_score = joint_acc / float(total) if total!=0 else 0\n",
    "    turn_acc_score = turn_acc / float(total) if total!=0 else 0\n",
    "    F1_score = F1_pred / float(F1_count) if F1_count!=0 else 0\n",
    "    return joint_acc_score, F1_score, turn_acc_score\n",
    "\n",
    "# gold, pred: sets of tuples of slot, value\n",
    "# slot_temp: set of slots we are concerned about (template)\n",
    "def compute_acc(gold, pred, slot_temp):\n",
    "    miss_gold = 0\n",
    "    miss_slot = []\n",
    "    for g in gold:\n",
    "        if g not in pred:\n",
    "            miss_gold += 1\n",
    "            miss_slot.append(g.rsplit(\"-\", 1)[0])\n",
    "    wrong_pred = 0\n",
    "    for p in pred:\n",
    "        if p not in gold and p.rsplit(\"-\", 1)[0] not in miss_slot:\n",
    "            wrong_pred += 1\n",
    "    ACC_TOTAL = len(slot_temp)\n",
    "    ACC = len(slot_temp) - miss_gold - wrong_pred\n",
    "    ACC = ACC / float(ACC_TOTAL)\n",
    "    return ACC\n",
    "\n",
    "# gold, pred: sets of tuples of slot, value\n",
    "def compute_prf(gold, pred):\n",
    "    TP, FP, FN = 0, 0, 0\n",
    "    if len(gold)!= 0:\n",
    "        count = 1\n",
    "        for g in gold:\n",
    "            if g in pred:\n",
    "                TP += 1\n",
    "            else:\n",
    "                FN += 1\n",
    "        for p in pred:\n",
    "            if p not in gold:\n",
    "                FP += 1\n",
    "        precision = TP / float(TP+FP) if (TP+FP)!=0 else 0\n",
    "        recall = TP / float(TP+FN) if (TP+FN)!=0 else 0\n",
    "        F1 = 2 * precision * recall / float(precision + recall) if (precision+recall)!=0 else 0\n",
    "    else:\n",
    "        if len(pred)==0:\n",
    "            precision, recall, F1, count = 1, 1, 1, 1\n",
    "        else:\n",
    "            precision, recall, F1, count = 0, 0, 0, 1\n",
    "    return F1, recall, precision, count"
   ]
  },
  {
   "cell_type": "code",
   "execution_count": 3,
   "metadata": {},
   "outputs": [],
   "source": [
    "slot_temp = {\"object_stolen\", \"location\", \"time_start\", \"time_end\"}\n",
    "\n",
    "gold = {(\"object_stolen\", \"bike lights (both front and rear)\"), (\"location\", \"in front of [ORG]\"),\n",
    "        (\"time_start\", \"This evening ([DATE]), between #:##\"), (\"time_end\", \"#:##\")}\n",
    "\n",
    "pred = {(\"location\", \"in front of [ORG]\"), (\"object_stolen\", \"bike lights\"), (\"time_end\", \"This evening\")}"
   ]
  },
  {
   "cell_type": "code",
   "execution_count": 4,
   "metadata": {},
   "outputs": [
    {
     "ename": "AttributeError",
     "evalue": "'tuple' object has no attribute 'rsplit'",
     "output_type": "error",
     "traceback": [
      "\u001b[0;31m---------------------------------------------------------------------------\u001b[0m",
      "\u001b[0;31mAttributeError\u001b[0m                            Traceback (most recent call last)",
      "\u001b[0;32m<ipython-input-4-59d6b628edf2>\u001b[0m in \u001b[0;36m<module>\u001b[0;34m\u001b[0m\n\u001b[0;32m----> 1\u001b[0;31m \u001b[0mprint\u001b[0m\u001b[0;34m(\u001b[0m\u001b[0mcompute_acc\u001b[0m\u001b[0;34m(\u001b[0m\u001b[0mgold\u001b[0m\u001b[0;34m,\u001b[0m \u001b[0mpred\u001b[0m\u001b[0;34m,\u001b[0m \u001b[0mslot_temp\u001b[0m\u001b[0;34m)\u001b[0m\u001b[0;34m)\u001b[0m\u001b[0;34m\u001b[0m\u001b[0;34m\u001b[0m\u001b[0m\n\u001b[0m\u001b[1;32m      2\u001b[0m \u001b[0mprint\u001b[0m\u001b[0;34m(\u001b[0m\u001b[0mcompute_prf\u001b[0m\u001b[0;34m(\u001b[0m\u001b[0mgold\u001b[0m\u001b[0;34m,\u001b[0m \u001b[0mpred\u001b[0m\u001b[0;34m)\u001b[0m\u001b[0;34m)\u001b[0m\u001b[0;34m\u001b[0m\u001b[0;34m\u001b[0m\u001b[0m\n",
      "\u001b[0;32m<ipython-input-2-9a85e9aef2cb>\u001b[0m in \u001b[0;36mcompute_acc\u001b[0;34m(gold, pred, slot_temp)\u001b[0m\n\u001b[1;32m     32\u001b[0m         \u001b[0;32mif\u001b[0m \u001b[0mg\u001b[0m \u001b[0;32mnot\u001b[0m \u001b[0;32min\u001b[0m \u001b[0mpred\u001b[0m\u001b[0;34m:\u001b[0m\u001b[0;34m\u001b[0m\u001b[0;34m\u001b[0m\u001b[0m\n\u001b[1;32m     33\u001b[0m             \u001b[0mmiss_gold\u001b[0m \u001b[0;34m+=\u001b[0m \u001b[0;36m1\u001b[0m\u001b[0;34m\u001b[0m\u001b[0;34m\u001b[0m\u001b[0m\n\u001b[0;32m---> 34\u001b[0;31m             \u001b[0mmiss_slot\u001b[0m\u001b[0;34m.\u001b[0m\u001b[0mappend\u001b[0m\u001b[0;34m(\u001b[0m\u001b[0mg\u001b[0m\u001b[0;34m.\u001b[0m\u001b[0mrsplit\u001b[0m\u001b[0;34m(\u001b[0m\u001b[0;34m\"-\"\u001b[0m\u001b[0;34m,\u001b[0m \u001b[0;36m1\u001b[0m\u001b[0;34m)\u001b[0m\u001b[0;34m[\u001b[0m\u001b[0;36m0\u001b[0m\u001b[0;34m]\u001b[0m\u001b[0;34m)\u001b[0m\u001b[0;34m\u001b[0m\u001b[0;34m\u001b[0m\u001b[0m\n\u001b[0m\u001b[1;32m     35\u001b[0m     \u001b[0mwrong_pred\u001b[0m \u001b[0;34m=\u001b[0m \u001b[0;36m0\u001b[0m\u001b[0;34m\u001b[0m\u001b[0;34m\u001b[0m\u001b[0m\n\u001b[1;32m     36\u001b[0m     \u001b[0;32mfor\u001b[0m \u001b[0mp\u001b[0m \u001b[0;32min\u001b[0m \u001b[0mpred\u001b[0m\u001b[0;34m:\u001b[0m\u001b[0;34m\u001b[0m\u001b[0;34m\u001b[0m\u001b[0m\n",
      "\u001b[0;31mAttributeError\u001b[0m: 'tuple' object has no attribute 'rsplit'"
     ]
    }
   ],
   "source": [
    "print(compute_acc(gold, pred, slot_temp))\n",
    "print(compute_prf(gold, pred))"
   ]
  },
  {
   "cell_type": "code",
   "execution_count": null,
   "metadata": {},
   "outputs": [],
   "source": []
  }
 ],
 "metadata": {
  "kernelspec": {
   "display_name": "Python 3",
   "language": "python",
   "name": "python3"
  },
  "language_info": {
   "codemirror_mode": {
    "name": "ipython",
    "version": 3
   },
   "file_extension": ".py",
   "mimetype": "text/x-python",
   "name": "python",
   "nbconvert_exporter": "python",
   "pygments_lexer": "ipython3",
   "version": "3.7.4"
  }
 },
 "nbformat": 4,
 "nbformat_minor": 2
}
