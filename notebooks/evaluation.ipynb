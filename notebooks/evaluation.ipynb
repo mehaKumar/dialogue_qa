{
 "cells": [
  {
   "cell_type": "code",
   "execution_count": 1,
   "metadata": {},
   "outputs": [],
   "source": [
    "import numpy as np"
   ]
  },
  {
   "cell_type": "code",
   "execution_count": 5,
   "metadata": {},
   "outputs": [],
   "source": [
    "# modified from https://github.com/jasonwu0731/trade-dst/\n",
    "\n",
    "# gets metrics for a all dialogue conversations\n",
    "# all_diag_pred: dictionary of conversation_name -> diag_pred\n",
    "# all_diag_gold: dictionary of conversation_name -> diag_gold\n",
    "# diag_pred: list of predicted slots per dialogue turn (list of sets of tuples)\n",
    "# diag_gold: list of gold slots per dialogue turn (list of sets of tuples)\n",
    "# slot_temp: set of slots we are concerned about (template)\n",
    "def evaluate_metrics(all_diag_pred, all_diag_gold, slot_temp):\n",
    "    total, turn_acc, joint_acc, F1_pred, F1_count = 0, 0, 0, 0, 0\n",
    "    for fname, diag_pred in all_diag_pred:\n",
    "        diag_gold = all_diag_gold[fname]\n",
    "        for t in range(len(diag_gold)):\n",
    "            curr_pred = diag_pred[t]\n",
    "            curr_gold = diag_gold[t] \n",
    "            if curr_pred == curr_gold:\n",
    "                joint_acc += 1\n",
    "            total += 1\n",
    "\n",
    "            # Compute prediction slot accuracy\n",
    "            temp_acc = self.compute_acc(curr_pred, curr_gold, slot_temp)\n",
    "            turn_acc += temp_acc\n",
    "\n",
    "            # Compute prediction joint F1 score\n",
    "            temp_f1, temp_r, temp_p, count = self.compute_prf(curr_pred, curr_gold)\n",
    "            F1_pred += temp_f1\n",
    "            F1_count += count\n",
    "\n",
    "    joint_acc_score = joint_acc / float(total) if total!=0 else 0\n",
    "    turn_acc_score = turn_acc / float(total) if total!=0 else 0\n",
    "    F1_score = F1_pred / float(F1_count) if F1_count!=0 else 0\n",
    "    return joint_acc_score, F1_score, turn_acc_score\n",
    "\n",
    "# gold, pred: sets of tuples of slot, value\n",
    "# slot_temp: set of slots we are concerned about (template)\n",
    "def compute_acc(gold, pred, slot_temp):\n",
    "    miss_gold = 0\n",
    "    miss_slot = []\n",
    "    for g in gold:\n",
    "        if g not in pred:\n",
    "            miss_gold += 1\n",
    "            miss_slot.append(g[0])\n",
    "    wrong_pred = 0\n",
    "    for p in pred:\n",
    "        if p not in gold and p[0] not in miss_slot:\n",
    "            wrong_pred += 1\n",
    "    ACC_TOTAL = len(slot_temp)\n",
    "    ACC = len(slot_temp) - miss_gold - wrong_pred\n",
    "    ACC = ACC / float(ACC_TOTAL)\n",
    "    return ACC\n",
    "\n",
    "# gold, pred: sets of tuples of slot, value\n",
    "def compute_prf(gold, pred):\n",
    "    TP, FP, FN = 0, 0, 0\n",
    "    if len(gold)!= 0:\n",
    "        count = 1\n",
    "        for g in gold:\n",
    "            if g in pred:\n",
    "                TP += 1\n",
    "            else:\n",
    "                FN += 1\n",
    "        for p in pred:\n",
    "            if p not in gold:\n",
    "                FP += 1\n",
    "        precision = TP / float(TP+FP) if (TP+FP)!=0 else 0\n",
    "        recall = TP / float(TP+FN) if (TP+FN)!=0 else 0\n",
    "        F1 = 2 * precision * recall / float(precision + recall) if (precision+recall)!=0 else 0\n",
    "    else:\n",
    "        if len(pred)==0:\n",
    "            precision, recall, F1, count = 1, 1, 1, 1\n",
    "        else:\n",
    "            precision, recall, F1, count = 0, 0, 0, 1\n",
    "    return F1, recall, precision, count"
   ]
  },
  {
   "cell_type": "code",
   "execution_count": 6,
   "metadata": {},
   "outputs": [],
   "source": [
    "slot_temp = {\"object_stolen\", \"location\", \"time_start\", \"time_end\"}\n",
    "\n",
    "gold = {(\"object_stolen\", \"bike lights (both front and rear)\"), (\"location\", \"in front of [ORG]\"),\n",
    "        (\"time_start\", \"This evening ([DATE]), between #:##\"), (\"time_end\", \"#:##\")}\n",
    "\n",
    "pred = {(\"location\", \"in front of [ORG]\"), (\"object_stolen\", \"bike lights\"), (\"time_end\", \"This evening\")}"
   ]
  },
  {
   "cell_type": "code",
   "execution_count": 7,
   "metadata": {},
   "outputs": [
    {
     "name": "stdout",
     "output_type": "stream",
     "text": [
      "0.25\n",
      "(0.28571428571428575, 0.25, 0.3333333333333333, 1)\n"
     ]
    }
   ],
   "source": [
    "print(compute_acc(gold, pred, slot_temp))\n",
    "print(compute_prf(gold, pred))"
   ]
  },
  {
   "cell_type": "code",
   "execution_count": null,
   "metadata": {},
   "outputs": [],
   "source": []
  }
 ],
 "metadata": {
  "kernelspec": {
   "display_name": "Python 3",
   "language": "python",
   "name": "python3"
  },
  "language_info": {
   "codemirror_mode": {
    "name": "ipython",
    "version": 3
   },
   "file_extension": ".py",
   "mimetype": "text/x-python",
   "name": "python",
   "nbconvert_exporter": "python",
   "pygments_lexer": "ipython3",
   "version": "3.7.4"
  }
 },
 "nbformat": 4,
 "nbformat_minor": 2
}
