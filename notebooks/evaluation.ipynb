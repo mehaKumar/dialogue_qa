{
 "cells": [
  {
   "cell_type": "code",
   "execution_count": 20,
   "metadata": {},
   "outputs": [],
   "source": [
    "import numpy as np\n",
    "import re\n",
    "import collections"
   ]
  },
  {
   "cell_type": "code",
   "execution_count": 29,
   "metadata": {},
   "outputs": [],
   "source": [
    "# modified from https://github.com/jasonwu0731/trade-dst/, https://rajpurkar.github.io/SQuAD-explorer/\n",
    "\n",
    "# gets metrics for a all dialogue conversations\n",
    "# all_diag_pred: dictionary of conversation_name -> diag_pred\n",
    "# all_diag_gold: dictionary of conversation_name -> diag_gold\n",
    "# diag_pred: list of predicted slots per dialogue turn (list of sets of tuples)\n",
    "# diag_gold: list of gold slots per dialogue turn (list of sets of tuples)\n",
    "# slot_temp: set of slots we are concerned about (template)\n",
    "def evaluate_metrics(all_diag_pred, all_diag_gold, slot_temp):\n",
    "    total, turn_acc, joint_acc, F1_pred, F1_count = 0, 0, 0, 0, 0\n",
    "    for fname, diag_pred in all_diag_pred:\n",
    "        diag_gold = all_diag_gold[fname]\n",
    "        for t in range(len(diag_gold)):\n",
    "            curr_pred = diag_pred[t]\n",
    "            curr_gold = diag_gold[t] \n",
    "            if curr_pred == curr_gold:\n",
    "                joint_acc += 1\n",
    "            total += 1\n",
    "\n",
    "            # Compute prediction slot accuracy\n",
    "            temp_acc = self.compute_acc(curr_pred, curr_gold, slot_temp)\n",
    "            turn_acc += temp_acc\n",
    "\n",
    "            # Compute prediction joint F1 score\n",
    "            temp_f1, temp_r, temp_p, count = self.compute_prf(curr_pred, curr_gold)\n",
    "            F1_pred += temp_f1\n",
    "            F1_count += count\n",
    "\n",
    "    joint_acc_score = joint_acc / float(total) if total!=0 else 0\n",
    "    turn_acc_score = turn_acc / float(total) if total!=0 else 0\n",
    "    F1_score = F1_pred / float(F1_count) if F1_count!=0 else 0\n",
    "    return joint_acc_score, F1_score, turn_acc_score\n",
    "\n",
    "# gold, pred: dictionaries of slot -> list of values\n",
    "# slot_temp: set of slots we are concerned about (template)\n",
    "# returns: (# slots which have any correct prediction) / (# slots)\n",
    "def compute_acc(gold, pred, slot_temp):\n",
    "    pred_correct = 0\n",
    "    # total up number of slots where any gold value was predicted\n",
    "    for slot in slot_temp:\n",
    "        for gold_val in gold[slot]:\n",
    "            if gold_val in pred[slot]:\n",
    "                pred_correct += 1\n",
    "                break\n",
    "    \n",
    "    ACC_TOTAL = len(slot_temp)\n",
    "    ACC = pred_correct\n",
    "    ACC = ACC / float(ACC_TOTAL)\n",
    "    return ACC\n",
    "\n",
    "# gold, pred: dictionaries of slot -> list of values\n",
    "def compute_prf(gold, pred, slot_temp):\n",
    "    TP, FP, FN = 0, 0, 0\n",
    "    if len(gold)!= 0:\n",
    "        count = 1\n",
    "        for slot in slot_temp:\n",
    "            for gold_val in gold[slot]:\n",
    "                if gold_val in pred[slot]:\n",
    "                    TP += 1\n",
    "                else:\n",
    "                    FN += 1\n",
    "            for pred_val in pred[slot]:\n",
    "                if pred_val not in gold[slot]:\n",
    "                    FP += 1\n",
    "        precision = TP / float(TP+FP) if (TP+FP)!=0 else 0\n",
    "        recall = TP / float(TP+FN) if (TP+FN)!=0 else 0\n",
    "        F1 = 2 * precision * recall / float(precision + recall) if (precision+recall)!=0 else 0\n",
    "#     else:\n",
    "#         if len(pred)==0:\n",
    "#             precision, recall, F1, count = 1, 1, 1, 1\n",
    "#         else:\n",
    "#             precision, recall, F1, count = 0, 0, 0, 1\n",
    "    return F1, recall, precision, count\n",
    "\n",
    "def compute_bleu(gold, pred):\n",
    "    from sacrebleu.metrics import BLEU\n",
    "    def get_bleu(gold, pred):\n",
    "        # return BLEU, bleu-1, -2, -3, -4\n",
    "        x = bleu.corpus_score([pred], [[gold]])\n",
    "        b1, b2, b3, b4 = [float(s) for s in x._verbose.split()[0].split('/')]\n",
    "        return {'bleu': [x.score], 'bleu-1': [b1], 'bleu-2': [b2], 'bleu-3': [b3], 'bleu-4': [b4]}\n",
    "    \n",
    "    bleu = BLEU()\n",
    "    miss_gold = 0\n",
    "#     miss_slot = []\n",
    "    scorer = {'bleu': [], 'bleu-1': [], 'bleu-2': [], 'bleu-3': [], 'bleu-4': []}\n",
    "    for g in gold:\n",
    "        if g not in pred:\n",
    "            miss_gold += 1\n",
    "#             miss_slot.append(g[0])\n",
    "#     wrong_pred = 0\n",
    "    for s, v in pred:\n",
    "        d_gold = dict(gold)\n",
    "        if s in d_gold:\n",
    "            bleus = get_bleu(v, d_gold[s])\n",
    "            scorer = {key:scorer.get(key,[])+bleus.get(key,[]) \n",
    "                      for key in set(list(scorer.keys())+list(bleus.keys()))}\n",
    "    for i in range(miss_gold):\n",
    "        scorer = {k: scorer[k] + [0.] for k in scorer}\n",
    "    return {k: np.mean(scorer[k]) for k in scorer} #, scorer\n",
    "\n",
    "# Word-based F1, as used for span prediction\n",
    "# a_fold, a_pred: strings (spans of text)\n",
    "def compute_f1_span(a_gold, a_pred):\n",
    "    gold_toks = a_gold.split()\n",
    "    pred_toks = a_pred.split()\n",
    "    common = collections.Counter(gold_toks) & collections.Counter(pred_toks)\n",
    "    num_same = sum(common.values())\n",
    "    if num_same == 0:\n",
    "        return 0\n",
    "    precision = 1.0 * num_same / len(pred_toks)\n",
    "    recall = 1.0 * num_same / len(gold_toks)\n",
    "    f1 = (2 * precision * recall) / (precision + recall)\n",
    "    return f1\n",
    "\n",
    "# word-based F1: average of slots' F1 scores, where a slot's score is the max F1 of all gold/pred pairs\n",
    "def compute_f1(gold, pred, slot_temp):\n",
    "    f1s = []\n",
    "    for slot in slot_temp:\n",
    "        # if gold answer was no answer, f1 is 1 if pred is same or 0 if not\n",
    "        if len(gold[slot]) == 0:\n",
    "            f1s.append(int(len(gold[slot]) == len(pred[slot])))\n",
    "        else:\n",
    "            f1_max = 0\n",
    "            for gold_val in gold[slot]:\n",
    "                for pred_val in pred[slot]:\n",
    "                    f1 = compute_f1_span(gold_val, pred_val)\n",
    "                    f1_max = max(f1_max, f1)\n",
    "            f1s.append(f1_max)\n",
    "    print(f1s)\n",
    "    return np.mean(f1s)\n",
    "                "
   ]
  },
  {
   "cell_type": "code",
   "execution_count": 30,
   "metadata": {},
   "outputs": [],
   "source": [
    "slot_temp = {\"Target_Object-ARG\", \"Place-Arg\", \"Start_Time-Arg\", \"End_Time-Arg\"}\n",
    "\n",
    "gold = {\"Target_Object-ARG\":[\"bike lights (both front and rear)\"], \"Place-Arg\": [\"in front of [ORG]\"],\n",
    "        \"Start_Time-Arg\": [\"This evening ([DATE]), between #:##\"], \"End_Time-Arg\": [\"#:##\"]}\n",
    "\n",
    "pred = {\"Place-Arg\": [\"in front of [ORG]\"], \"Target_Object-ARG\":[\"bike lights\"], \n",
    "        \"End_Time-Arg\": [\"This evening\"], \"Start_Time-Arg\":[]}"
   ]
  },
  {
   "cell_type": "code",
   "execution_count": 31,
   "metadata": {},
   "outputs": [
    {
     "name": "stdout",
     "output_type": "stream",
     "text": [
      "0.25\n",
      "(0.28571428571428575, 0.25, 0.3333333333333333, 1)\n",
      "[0, 0.5, 0, 1.0]\n",
      "0.375\n"
     ]
    }
   ],
   "source": [
    "print(compute_acc(gold, pred, slot_temp))\n",
    "print(compute_prf(gold, pred, slot_temp))\n",
    "print(compute_f1(gold, pred, slot_temp))"
   ]
  },
  {
   "cell_type": "code",
   "execution_count": 73,
   "metadata": {},
   "outputs": [
    {
     "name": "stdout",
     "output_type": "stream",
     "text": [
      "{'bleu-3': 18.05, 'bleu-4': 17.5, 'bleu': 18.507465927846496, 'bleu-1': 20.833333333333332, 'bleu-2': 19.05}\n"
     ]
    }
   ],
   "source": [
    "print(compute_bleu(gold, pred))"
   ]
  },
  {
   "cell_type": "code",
   "execution_count": 18,
   "metadata": {},
   "outputs": [
    {
     "name": "stdout",
     "output_type": "stream",
     "text": [
      "{'T1': ('Intent_Inform 0 4', 'User'), 'T2': ('Time 6 41', 'This evening ([DATE]), between #:##'), 'T3': ('Time 56 60', '#:##'), 'T4': ('Stolen 113 119', 'stolen'), 'T5': ('Object_Stolen 74 107', 'bike lights (both front and rear)'), 'T6': ('Location_Region-General 132 149', 'in front of [ORG]'), 'T7': ('Location_Region-General 176 219', 'sign directly in front of a security camera'), 'T8': ('Intent_Thank 0 4', 'User'), 'T9': ('Intent_Thank 498 503', 'Admin'), 'T10': ('Intent_NotifyOthersInCharge 498 503', 'Admin'), 'T11': ('Intent_Other 651 656', 'Admin'), 'T12': ('Intent_Confirm 706 710', 'User'), 'T13': ('Intent_Inform 706 710', 'User'), 'T14': ('Intent_Thank 706 710', 'User'), 'T15': ('Intent_AskForDetail_Location 851 856', 'Admin'), 'T16': ('Person_Individual 71 73', 'my'), 'T17': ('Person_Individual 124 126', 'my'), 'T18': ('Intent_Inform 887 891', 'User'), 'T19': ('Location_Region-General 913 917', 'home'), 'T20': ('Intent_AskToVisit 921 926', 'Admin'), 'T21': ('Intent_AskForDetail_Object-Stolen 921 926', 'Admin'), 'T22': ('Intent_Inform 1187 1191', 'User'), 'T23': ('Object_Stolen 1265 1316', 'mint green road bike with a white seat and handles.'), 'T24': ('Object_Stolen 1317 1411', 'One light sat in the right handle bar and the one resided underneath my seat by the back wheel')}\n",
      "{'Target_Object-ARG': ['T5'], 'Place-Arg': ['T6'], 'Start_Time-Arg': ['T2'], 'End_Time-Arg': ['T3']}\n",
      "[{'Target_Object-ARG': 'bike lights (both front and rear)', 'Place-Arg': 'in front of [ORG]', 'Start_Time-Arg': 'This evening ([DATE]), between #:##', 'End_Time-Arg': '#:##'}, {'Target_Object-ARG': 'bike lights (both front and rear)', 'Place-Arg': 'in front of [ORG]', 'Start_Time-Arg': 'This evening ([DATE]), between #:##', 'End_Time-Arg': '#:##'}, {'Target_Object-ARG': 'bike lights (both front and rear)', 'Place-Arg': 'in front of [ORG]', 'Start_Time-Arg': 'This evening ([DATE]), between #:##', 'End_Time-Arg': '#:##'}, {'Target_Object-ARG': 'bike lights (both front and rear)', 'Place-Arg': 'in front of [ORG]', 'Start_Time-Arg': 'This evening ([DATE]), between #:##', 'End_Time-Arg': '#:##'}, {'Target_Object-ARG': 'bike lights (both front and rear)', 'Place-Arg': 'in front of [ORG]', 'Start_Time-Arg': 'This evening ([DATE]), between #:##', 'End_Time-Arg': '#:##'}, {'Target_Object-ARG': 'bike lights (both front and rear)', 'Place-Arg': 'in front of [ORG]', 'Start_Time-Arg': 'This evening ([DATE]), between #:##', 'End_Time-Arg': '#:##'}, {'Target_Object-ARG': 'bike lights (both front and rear)', 'Place-Arg': 'in front of [ORG]', 'Start_Time-Arg': 'This evening ([DATE]), between #:##', 'End_Time-Arg': '#:##'}, {'Target_Object-ARG': 'bike lights (both front and rear)', 'Place-Arg': 'in front of [ORG]', 'Start_Time-Arg': 'This evening ([DATE]), between #:##', 'End_Time-Arg': '#:##'}]\n"
     ]
    }
   ],
   "source": [
    "# turn annotation file into list of dict\n",
    "\n",
    "f = open(\"../data/val_gold/event_1054347.ann\")\n",
    "lines = f.readlines()\n",
    "slot_2_tag = {\"Target_Object-ARG\":[], \"Place-Arg\":[], \"Start_Time-Arg\":[], \"End_Time-Arg\":[]}\n",
    "\n",
    "#make dict of tags to location and string\n",
    "annot_dict = {}\n",
    "for line in lines:\n",
    "    toks = re.split(r'\\t+', line)\n",
    "    if toks[0][0] != \"E\":\n",
    "        annot_dict[toks[0]] = (toks[1], toks[2].strip())\n",
    "        \n",
    "print(annot_dict)\n",
    "\n",
    "#make dict of slot needed to tag(s)\n",
    "for line in lines:\n",
    "    if line[:2] == \"E1\":\n",
    "        #found the theft event\n",
    "        toks = line[2:].split()\n",
    "        for tok in toks:\n",
    "            tag = tok.split(\":\")\n",
    "            if tag[0] == \"Start_Time-Arg\":\n",
    "                slot_2_tag[\"Start_Time-Arg\"] += [tag[1]]\n",
    "            elif tag[0] == \"End_Time-Arg\":\n",
    "                slot_2_tag[\"End_Time-Arg\"] += [tag[1]]\n",
    "            elif tag[0] == \"Target_Object-ARG\":\n",
    "                slot_2_tag[\"Target_Object-ARG\"] += [tag[1]]\n",
    "            elif tag[0] == \"Place-Arg\":\n",
    "                slot_2_tag[\"Place-Arg\"] += [tag[1]]\n",
    "                \n",
    "f.close()\n",
    "\n",
    "print(slot_2_tag)\n",
    "\n",
    "#make list of dicts (entry i is slot values at utterance i)\n",
    "f = open(\"../data/val/event_1054347.txt\")\n",
    "lines = f.readlines()\n",
    "slots_gold = []\n",
    "\n",
    "len_total = 0\n",
    "for line in lines:\n",
    "    len_total += len(line)\n",
    "    slots_gold_i = {\"Target_Object-ARG\":[], \"Place-Arg\":[], \"Start_Time-Arg\":[], \"End_Time-Arg\":[]}\n",
    "    # for each slot, add any gold annotated strings which are in the dialogue history\n",
    "    for slot in slot_temp:\n",
    "        tags = slot_2_tag[slot]\n",
    "        for tag in tags:\n",
    "            loc = annot_dict[tag][0]\n",
    "            toks = loc.split()\n",
    "            if int(toks[1]) <= len_total:\n",
    "                slots_gold_i[slot] = annot_dict[tag][1]\n",
    "    slots_gold.append(slots_gold_i)\n",
    "    \n",
    "print(slots_gold)"
   ]
  },
  {
   "cell_type": "code",
   "execution_count": 19,
   "metadata": {},
   "outputs": [
    {
     "data": {
      "text/plain": [
       "1"
      ]
     },
     "execution_count": 19,
     "metadata": {},
     "output_type": "execute_result"
    }
   ],
   "source": []
  },
  {
   "cell_type": "code",
   "execution_count": null,
   "metadata": {},
   "outputs": [],
   "source": []
  }
 ],
 "metadata": {
  "kernelspec": {
   "display_name": "Python 3",
   "language": "python",
   "name": "python3"
  },
  "language_info": {
   "codemirror_mode": {
    "name": "ipython",
    "version": 3
   },
   "file_extension": ".py",
   "mimetype": "text/x-python",
   "name": "python",
   "nbconvert_exporter": "python",
   "pygments_lexer": "ipython3",
   "version": "3.7.4"
  }
 },
 "nbformat": 4,
 "nbformat_minor": 4
}
